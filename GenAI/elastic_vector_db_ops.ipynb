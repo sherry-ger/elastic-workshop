{
  "nbformat": 4,
  "nbformat_minor": 0,
  "metadata": {
    "colab": {
      "provenance": [],
      "include_colab_link": true
    },
    "kernelspec": {
      "name": "python3",
      "display_name": "Python 3"
    },
    "language_info": {
      "name": "python"
    }
  },
  "cells": [
    {
      "cell_type": "markdown",
      "metadata": {
        "id": "view-in-github",
        "colab_type": "text"
      },
      "source": [
        "<a href=\"https://colab.research.google.com/github/sherry-ger/elastic-workshop/blob/main/GenAI/elastic_vector_db_ops.ipynb\" target=\"_parent\"><img src=\"https://colab.research.google.com/assets/colab-badge.svg\" alt=\"Open In Colab\"/></a>"
      ]
    },
    {
      "cell_type": "markdown",
      "source": [
        "# Initial Setup"
      ],
      "metadata": {
        "id": "ObVXyocDZSZw"
      }
    },
    {
      "cell_type": "code",
      "source": [
        "!pip install elasticsearch\n"
      ],
      "metadata": {
        "id": "cRUzDQ2MtIna"
      },
      "execution_count": null,
      "outputs": []
    },
    {
      "cell_type": "code",
      "source": [
        "# Read in connection and auth info\n",
        "# Note the port is REQUIRED for the elasticsearch endpoint!\n",
        "import getpass, os\n",
        "\n",
        "os.environ['es_cloud_id'] = getpass.getpass('Elastic deployment Cloud ID:  ')\n",
        "os.environ['es_pwd'] = getpass.getpass('Enter Password:  ')"
      ],
      "metadata": {
        "id": "Y3umJ1oqT4SG"
      },
      "execution_count": null,
      "outputs": []
    },
    {
      "cell_type": "code",
      "execution_count": null,
      "metadata": {
        "id": "XbqVOuPbsxb_"
      },
      "outputs": [],
      "source": [
        "# Connect and test connection\n",
        "from elasticsearch import Elasticsearch\n",
        "\n",
        "es_cloud_id = os.environ['es_cloud_id']\n",
        "es_pwd = os.environ['es_pwd']\n",
        "\n",
        "# Initialize the Elasticsearch client\n",
        "es = Elasticsearch(\n",
        "    cloud_id=es_cloud_id,\n",
        "    basic_auth=(\"elastic\", es_pwd),\n",
        "    request_timeout=30\n",
        ")\n",
        "es.info().body"
      ]
    },
    {
      "cell_type": "markdown",
      "source": [
        "# Data and Model Setup"
      ],
      "metadata": {
        "id": "ELvXvOSFZs56"
      }
    },
    {
      "cell_type": "code",
      "source": [
        "# Upload the file first headset.json\n",
        "# https://github.com/sherry-ger/elastic-workshop/blob/main/GenAI/headset.json\n",
        "!head /content/headset.json"
      ],
      "metadata": {
        "id": "y6e_aa9kyjcI",
        "colab": {
          "base_uri": "https://localhost:8080/"
        },
        "outputId": "1c32bc24-a8c8-495d-fc4c-aca20e5d77ed"
      },
      "execution_count": 16,
      "outputs": [
        {
          "output_type": "stream",
          "name": "stdout",
          "text": [
            "{\"question_id\": \"Tx39GCUOS5AYAFK\", \"question_text\": \"does this work with cisco ip phone 7942\", \"asin\": \"B000LSZ2D6\", \"bullet_point1\": \"Noise-Canceling microphone filters out background sound\", \"bullet_point2\": \"HW251N P/N 75100-06\", \"bullet_point3\": \"Uses Plantronics QD Quick Disconnect Connector. Must be used with Plantronics Amp or with proper phone or USB adapter cable\", \"bullet_point4\": \"Connectivity Technology: Wired, Earpiece Design: Over-the-head, Earpiece Type: Monaural, Host Interface: Proprietary, Microphone Design: Boom, Microphone Technology: Noise Canceling, Product Model: HW251N, Product Series: SupraPlus, Standard Warranty: 2 Year\", \"bullet_point5\": \"Easy Lightweight Wear -Leaving One Ear Uncovered For Person-to-Person Conversations\", \"product_description\": \"\", \"brand_name\": \"Plantronics\", \"item_name\": \"Plantronics HW251N SupraPlus Wideband Headset (64338-31)\", \"question_type\": \"yes-no\", \"answer_aggregated\": \"neutral\", \"answers\": [{\"answer_text\": \"Use the Plantronics compatibility guide to see what is compatible with your phone. http://www.plantronics.com/us/compatibility-guide/\"}, {\"answer_text\": \"I think that you will need a extra cord, but, To avoid offering you any false information,   We highly recommend contacting the manufacturer of this product for more specific information.   if you are not sure about it, you can go first to :  http://www.plantronics.com/us/support/  or call Plantronics TOLL FREE SUPPORT: 1-855-765-7878 24-HOUR SUPPORT SUNDAY 2PM-FRIDAY 5PM (PT)  they will answer all the questions you need to know about it.\"}, {\"answer_text\": \"I'm really not positive. It works with our phones that include model numbers 7941, 7945 and 7961.\"}]}\n",
            "{\"question_id\": \"TxH4TPAQFBLE5L\", \"question_text\": \"Is this compatible with the cisco ip phone 7970 / 7961 models?\", \"asin\": \"B000LSZ2D6\", \"bullet_point1\": \"Noise-Canceling microphone filters out background sound\", \"bullet_point2\": \"HW251N P/N 75100-06\", \"bullet_point3\": \"Uses Plantronics QD Quick Disconnect Connector. Must be used with Plantronics Amp or with proper phone or USB adapter cable\", \"bullet_point4\": \"Connectivity Technology: Wired, Earpiece Design: Over-the-head, Earpiece Type: Monaural, Host Interface: Proprietary, Microphone Design: Boom, Microphone Technology: Noise Canceling, Product Model: HW251N, Product Series: SupraPlus, Standard Warranty: 2 Year\", \"bullet_point5\": \"Easy Lightweight Wear -Leaving One Ear Uncovered For Person-to-Person Conversations\", \"product_description\": \"\", \"brand_name\": \"Plantronics\", \"item_name\": \"Plantronics HW251N SupraPlus Wideband Headset (64338-31)\", \"question_type\": \"yes-no\", \"answer_aggregated\": \"yes\", \"answers\": [{\"answer_text\": \"Don\\u2019t know. Call Plantronics\"}, {\"answer_text\": \"Well...Don't know.\"}, {\"answer_text\": \"This headset should work but it requires a separate adapter to go with it in order too connect with this telephone. Below is a headset that includes the cord you'll need to connect with your Cisco phones.  https://www.amazon.com/dp/B01MYGZGUV\"}, {\"answer_text\": \"Hello! Yes it is compatible, however please note you will need an adapter cable in order to plug it into the phone. The model of the cable depends on the phone that you have. The compatible model for both phones is a U10 cable, Part Number: 26716-01. Feel free to contact our Customer Care Team at: 800-985-9815 if you have any other questions!\"}]}\n",
            "{\"question_id\": \"TxQE5FTUZUKZTX\", \"question_text\": \"If i have a polycom vvx, what adapter cable will i need to plug in this headset to?\", \"asin\": \"B000LSZ2D6\", \"bullet_point1\": \"Noise-Canceling microphone filters out background sound\", \"bullet_point2\": \"HW251N P/N 75100-06\", \"bullet_point3\": \"Uses Plantronics QD Quick Disconnect Connector. Must be used with Plantronics Amp or with proper phone or USB adapter cable\", \"bullet_point4\": \"Connectivity Technology: Wired, Earpiece Design: Over-the-head, Earpiece Type: Monaural, Host Interface: Proprietary, Microphone Design: Boom, Microphone Technology: Noise Canceling, Product Model: HW251N, Product Series: SupraPlus, Standard Warranty: 2 Year\", \"bullet_point5\": \"Easy Lightweight Wear -Leaving One Ear Uncovered For Person-to-Person Conversations\", \"product_description\": \"\", \"brand_name\": \"Plantronics\", \"item_name\": \"Plantronics HW251N SupraPlus Wideband Headset (64338-31)\", \"question_type\": \"WH\", \"answer_aggregated\": \"N/A\", \"answers\": [{\"answer_text\": \"Hi Gabrielle, what is the model of VVX?\"}, {\"answer_text\": \"This head set come with its own cable\"}, {\"answer_text\": \"Plantronics 27190-01 QD/ED to RJ-9  See...  http://support.polycom.com/global/documents/support/technical/products/voice/FP37477 Using Headsets With Polycom Phones.pdf\"}]}\n",
            "{\"question_id\": \"Tx3G6XE2PTGUTHY\", \"question_text\": \"Does this headset work with a samsung galaxy s6 edge cell phone? if so, which adapter does it require? is that adapter available on amazon?  thanks.\", \"asin\": \"B000LSZ2D6\", \"bullet_point1\": \"Noise-Canceling microphone filters out background sound\", \"bullet_point2\": \"HW251N P/N 75100-06\", \"bullet_point3\": \"Uses Plantronics QD Quick Disconnect Connector. Must be used with Plantronics Amp or with proper phone or USB adapter cable\", \"bullet_point4\": \"Connectivity Technology: Wired, Earpiece Design: Over-the-head, Earpiece Type: Monaural, Host Interface: Proprietary, Microphone Design: Boom, Microphone Technology: Noise Canceling, Product Model: HW251N, Product Series: SupraPlus, Standard Warranty: 2 Year\", \"bullet_point5\": \"Easy Lightweight Wear -Leaving One Ear Uncovered For Person-to-Person Conversations\", \"product_description\": \"\", \"brand_name\": \"Plantronics\", \"item_name\": \"Plantronics HW251N SupraPlus Wideband Headset (64338-31)\", \"question_type\": \"WH\", \"answer_aggregated\": \"N/A\", \"answers\": [{\"answer_text\": \"no wont work\"}]}\n",
            "{\"question_id\": \"Tx29KTO6BDODB6F\", \"question_text\": \"Will this work for a polycom vvx phone? also, is it necessary to purchase that extra adapter if i will use only with ploycom?\", \"asin\": \"B000LSZ2D6\", \"bullet_point1\": \"Noise-Canceling microphone filters out background sound\", \"bullet_point2\": \"HW251N P/N 75100-06\", \"bullet_point3\": \"Uses Plantronics QD Quick Disconnect Connector. Must be used with Plantronics Amp or with proper phone or USB adapter cable\", \"bullet_point4\": \"Connectivity Technology: Wired, Earpiece Design: Over-the-head, Earpiece Type: Monaural, Host Interface: Proprietary, Microphone Design: Boom, Microphone Technology: Noise Canceling, Product Model: HW251N, Product Series: SupraPlus, Standard Warranty: 2 Year\", \"bullet_point5\": \"Easy Lightweight Wear -Leaving One Ear Uncovered For Person-to-Person Conversations\", \"product_description\": \"\", \"brand_name\": \"Plantronics\", \"item_name\": \"Plantronics HW251N SupraPlus Wideband Headset (64338-31)\", \"question_type\": \"WH\", \"answer_aggregated\": \"N/A\", \"answers\": [{\"answer_text\": \"Yes, but you need a cable in between the headset and the Polycom. Plantronics Part Number: 27190-01\"}, {\"answer_text\": \"Hi there, yes this headset will work with your Polycom phone but you'll need to purchase the U10P direct connect cable as well. Out of the box this headset won't connect to anything unless you purchase the adapter for specific phones. Give us a call at 1-800-683-5715 for any further questions.\"}, {\"answer_text\": \"Per Polycom: These are compatible headsets for Polycom Soundpoint IP 300, 301, 335, 430, 450, 500, 501, 550, 560, 600, 601, 650, 670, CX300, CX500, CX600, CX700, VVX 101, VVX 201, VVX 300, 301, VVX 310, 311, VVX 400, 401, VVX 410, 411, VVX 500, 501, VVX 600, 601, VVX 1500.  Plantronics Corded Headsets: Only the Plantronics  SupraPlus \\\" (HW251, HW251N, HW261, HW261N),  \\\"EncorePro 500 series \\\" (HW530, HW540) and the  \\\"EncorePro 700 series \\\" (HW710, HW720) are compatible + Plantronics U10P Cable (part# 27190-01). All the other models may cause a buzzing sound in the headset. Or pick from any one of the pre-packaged Polycom certified headsets (part# ends with -POLY) below. Note: corded headset solution above require 2 pieces - the headset and the RJ-9 bottom cable.\\\"\"}, {\"answer_text\": \"Pls call Polycom\"}, {\"answer_text\": \"yes, you will need the extra cable\"}]}\n",
            "{\"question_id\": \"TxR5E9R4A6QSII\", \"question_text\": \"When you use the mute button can the person on the other end hear you putting them on mute?\", \"asin\": \"B000LSZ2D6\", \"bullet_point1\": \"Noise-Canceling microphone filters out background sound\", \"bullet_point2\": \"HW251N P/N 75100-06\", \"bullet_point3\": \"Uses Plantronics QD Quick Disconnect Connector. Must be used with Plantronics Amp or with proper phone or USB adapter cable\", \"bullet_point4\": \"Connectivity Technology: Wired, Earpiece Design: Over-the-head, Earpiece Type: Monaural, Host Interface: Proprietary, Microphone Design: Boom, Microphone Technology: Noise Canceling, Product Model: HW251N, Product Series: SupraPlus, Standard Warranty: 2 Year\", \"bullet_point5\": \"Easy Lightweight Wear -Leaving One Ear Uncovered For Person-to-Person Conversations\", \"product_description\": \"\", \"brand_name\": \"Plantronics\", \"item_name\": \"Plantronics HW251N SupraPlus Wideband Headset (64338-31)\", \"question_type\": \"WH\", \"answer_aggregated\": \"N/A\", \"answers\": [{\"answer_text\": \"Hello, the answer is no, the other person cannot hear when you are putting them on mute. :) please call 1800-683-5715 for any further questions. Thanks\"}]}\n",
            "{\"question_id\": \"Tx2MH61M1HRNMZM\", \"question_text\": \"will this work with cisco 7942 phone? what cable i need to buy??\", \"asin\": \"B000LSZ2D6\", \"bullet_point1\": \"Noise-Canceling microphone filters out background sound\", \"bullet_point2\": \"HW251N P/N 75100-06\", \"bullet_point3\": \"Uses Plantronics QD Quick Disconnect Connector. Must be used with Plantronics Amp or with proper phone or USB adapter cable\", \"bullet_point4\": \"Connectivity Technology: Wired, Earpiece Design: Over-the-head, Earpiece Type: Monaural, Host Interface: Proprietary, Microphone Design: Boom, Microphone Technology: Noise Canceling, Product Model: HW251N, Product Series: SupraPlus, Standard Warranty: 2 Year\", \"bullet_point5\": \"Easy Lightweight Wear -Leaving One Ear Uncovered For Person-to-Person Conversations\", \"product_description\": \"\", \"brand_name\": \"Plantronics\", \"item_name\": \"Plantronics HW251N SupraPlus Wideband Headset (64338-31)\", \"question_type\": \"WH\", \"answer_aggregated\": \"N/A\", \"answers\": [{\"answer_text\": \"I would call Headsets.com in San Francisco.   They are will know.  I buy my other supplies from them  800-432-3738\"}, {\"answer_text\": \"Hi Libin, you will need the U10 direct connect cable, part number  26716-01. Give us a call with any further questions at 1-800-683-5715.\"}]}\n",
            "{\"question_id\": \"TxKFNX4GCQETFN\", \"question_text\": \"Is there a connector that will work with a Blackberry and /or an iPhone?\", \"asin\": \"B000LSZ2D6\", \"bullet_point1\": \"Noise-Canceling microphone filters out background sound\", \"bullet_point2\": \"HW251N P/N 75100-06\", \"bullet_point3\": \"Uses Plantronics QD Quick Disconnect Connector. Must be used with Plantronics Amp or with proper phone or USB adapter cable\", \"bullet_point4\": \"Connectivity Technology: Wired, Earpiece Design: Over-the-head, Earpiece Type: Monaural, Host Interface: Proprietary, Microphone Design: Boom, Microphone Technology: Noise Canceling, Product Model: HW251N, Product Series: SupraPlus, Standard Warranty: 2 Year\", \"bullet_point5\": \"Easy Lightweight Wear -Leaving One Ear Uncovered For Person-to-Person Conversations\", \"product_description\": \"\", \"brand_name\": \"Plantronics\", \"item_name\": \"Plantronics HW251N SupraPlus Wideband Headset (64338-31)\", \"question_type\": \"yes-no\", \"answer_aggregated\": \"neutral\", \"answers\": [{\"answer_text\": \"I don't think so.  It connects with a regular phone type plug.\"}, {\"answer_text\": \"i don't know if it has a connector. i bought for our work phones Avaya.\"}, {\"answer_text\": \"No, this isn't meant to use with a cell phone.\"}]}\n",
            "{\"question_id\": \"Tx24LVV77BBWB6\", \"question_text\": \"Does it come with a 2.5mm jack ?\", \"asin\": \"B000LSZ2D6\", \"bullet_point1\": \"Noise-Canceling microphone filters out background sound\", \"bullet_point2\": \"HW251N P/N 75100-06\", \"bullet_point3\": \"Uses Plantronics QD Quick Disconnect Connector. Must be used with Plantronics Amp or with proper phone or USB adapter cable\", \"bullet_point4\": \"Connectivity Technology: Wired, Earpiece Design: Over-the-head, Earpiece Type: Monaural, Host Interface: Proprietary, Microphone Design: Boom, Microphone Technology: Noise Canceling, Product Model: HW251N, Product Series: SupraPlus, Standard Warranty: 2 Year\", \"bullet_point5\": \"Easy Lightweight Wear -Leaving One Ear Uncovered For Person-to-Person Conversations\", \"product_description\": \"\", \"brand_name\": \"Plantronics\", \"item_name\": \"Plantronics HW251N SupraPlus Wideband Headset (64338-31)\", \"question_type\": \"yes-no\", \"answer_aggregated\": \"neutral\", \"answers\": [{\"answer_text\": \"It does not. We had to purchase the DA40 USB Digital Adapter to work with our VVX-500 phones. Part # 71800-41\"}, {\"answer_text\": \"no, it never does. Comes with a Quick Disconnect socket.  However, we sell a  short cable ($6.95) that has a 3.5mm pin on one end and a quick discocnnect socket  on the other that might connect this headset to your device (unsure).  Call Plantronics to find out if these 2 items might work on oyur make and model of device\"}, {\"answer_text\": \"No, that would need to be purchased separately.\"}, {\"answer_text\": \"No it does not. It has the Plantronics Quick Disconnect (QD) connector which must be used with a proper adapter cable.\"}, {\"answer_text\": \"No, it does not.\"}, {\"answer_text\": \"I don't know the answer to this, but when we purchased our equipment we called Plantronics directly.  They were completely helpful, answered our questions and didn't try to sell us more than we needed.\"}, {\"answer_text\": \"Yes, I believe so\"}]}\n",
            "{\"question_id\": \"TxJPTVTNQ4NV60\", \"question_text\": \"Which cord do i need to connect this to a polycom vvx600?\", \"asin\": \"B000LSZ2D6\", \"bullet_point1\": \"Noise-Canceling microphone filters out background sound\", \"bullet_point2\": \"HW251N P/N 75100-06\", \"bullet_point3\": \"Uses Plantronics QD Quick Disconnect Connector. Must be used with Plantronics Amp or with proper phone or USB adapter cable\", \"bullet_point4\": \"Connectivity Technology: Wired, Earpiece Design: Over-the-head, Earpiece Type: Monaural, Host Interface: Proprietary, Microphone Design: Boom, Microphone Technology: Noise Canceling, Product Model: HW251N, Product Series: SupraPlus, Standard Warranty: 2 Year\", \"bullet_point5\": \"Easy Lightweight Wear -Leaving One Ear Uncovered For Person-to-Person Conversations\", \"product_description\": \"\", \"brand_name\": \"Plantronics\", \"item_name\": \"Plantronics HW251N SupraPlus Wideband Headset (64338-31)\", \"question_type\": \"WH\", \"answer_aggregated\": \"N/A\", \"answers\": [{\"answer_text\": \"Hi there, you would need the U10P 27190-01 direct connect cable. Another model to consider is the Discover D701 and you would need the D100 direct connect cable with that. Below is a link for your reference and give us a call at 1-800-683-5715 for any further questions. https://www.amazon.com/Discover-D701-Single-Office-Headset/dp/B01GGRAOYW/ref sr 1 1?ie UTF8&qid 1480543290&sr 8-1&keywords discover+d701\"}]}\n"
          ]
        }
      ]
    },
    {
      "cell_type": "code",
      "source": [
        "# Load the data into the dataframe. 1000 rows for test\n",
        "import sys\n",
        "import datetime\n",
        "import json\n",
        "import os\n",
        "import time\n",
        "\n",
        "import pandas as pd\n",
        "import numpy as np\n",
        "\n",
        "from elasticsearch import Elasticsearch\n",
        "from elasticsearch.helpers import bulk\n",
        "from datetime import datetime\n",
        "\n",
        "df = pd.DataFrame(columns=('question', 'answer'))\n",
        "\n",
        "with open('/content/headset.json') as f:\n",
        "    i=0\n",
        "    for line in f:\n",
        "        data = json.loads(line)\n",
        "        df.loc[i] = [data['question_text'],data['answers'][0]['answer_text']]\n",
        "        i+=1\n",
        "        if(i == 1000):\n",
        "            break\n"
      ],
      "metadata": {
        "id": "ktH56r5qvOi8"
      },
      "execution_count": 5,
      "outputs": []
    },
    {
      "cell_type": "code",
      "source": [
        "# Install eland\n",
        "!pip install -q eland elasticsearch elasticsearch_dsl transformers sentence_transformers\n",
        "\n",
        "from elasticsearch_dsl import Search\n",
        "from eland.ml.pytorch import PyTorchModel\n",
        "from eland.ml.pytorch.transformers import TransformerModel\n",
        "from getpass import getpass\n",
        "import logging\n",
        "import tempfile\n",
        "from pprint import pformat\n",
        "import secrets"
      ],
      "metadata": {
        "id": "9B5r8yVC6wQS"
      },
      "execution_count": null,
      "outputs": []
    },
    {
      "cell_type": "code",
      "source": [
        "# Load the eland model\n",
        "\n",
        "logging.basicConfig(format='%(asctime)s %(levelname)s : %(message)s')\n",
        "logger = logging.getLogger(__name__)\n",
        "logger.setLevel(logging.INFO)\n",
        "\n",
        "MODEL_HUB_URL = \"https://huggingface.co\"\n",
        "\n",
        "def load_model(model_id, task_type):\n",
        "  with tempfile.TemporaryDirectory() as tmp_dir:\n",
        "    logger.info(f\"Loading HuggingFace transformer tokenizer and model [{model_id}] for task [{task_type}]\" )\n",
        "\n",
        "    tm = TransformerModel(model_id=model_id, task_type=task_type)\n",
        "    model_path, config, vocab_path = tm.save(tmp_dir)\n",
        "\n",
        "    ptm = PyTorchModel(es, tm.elasticsearch_model_id())\n",
        "    model_exists = es.options(ignore_status=404).ml.get_trained_models(model_id=ptm.model_id).meta.status == 200\n",
        "\n",
        "    if model_exists:\n",
        "      logger.info(\"Model has already been imported\")\n",
        "    else:\n",
        "      logger.info(\"Importing model\")\n",
        "      ptm.import_model(model_path=model_path, config_path=None, vocab_path=vocab_path, config=config)\n",
        "      logger.info(\"Starting model deployment\")\n",
        "      ptm.start()\n",
        "      logger.info(f\"Model successfully imported with id '{ptm.model_id}'\")"
      ],
      "metadata": {
        "id": "xJjODOJz6mgB"
      },
      "execution_count": 7,
      "outputs": []
    },
    {
      "cell_type": "code",
      "source": [
        "load_model(\"sentence-transformers/\",all-MiniLM-L6-v2 \"text_embedding\")\n",
        "\n",
        "# fetch it so we can see how it loaded\n",
        "es.ml.get_trained_models(model_id=\"sentence-transformers__all-minilm-l6-v2\").body"
      ],
      "metadata": {
        "id": "VdGCezTY71AF"
      },
      "execution_count": null,
      "outputs": []
    },
    {
      "cell_type": "markdown",
      "source": [
        "# Create Index, Pipeline and Load Index"
      ],
      "metadata": {
        "id": "FK2ferO_bBzV"
      }
    },
    {
      "cell_type": "code",
      "source": [
        "# Create Pipeline\n",
        "es.ingest.put_pipeline(id=\"sentence-text-embedding\",\n",
        "    description=\"Text embedding pipeline\",\n",
        "    processors=[\n",
        "    {\n",
        "        \"inference\": {\n",
        "        \"model_id\": \"sentence-transformers__all-minilm-l6-v2\",\n",
        "        \"field_map\": {\n",
        "            \"question_text\": \"text_field\"\n",
        "        },\n",
        "        \"target_field\": \"question_vector\"\n",
        "      }\n",
        "    }\n",
        "  ],\n",
        "  on_failure=[\n",
        "    {\n",
        "      \"set\": {\n",
        "        \"description\": \"Index document to 'failed-<index>'\",\n",
        "        \"field\": \"_index\",\n",
        "        \"value\": \"failed-{{{_index}}}\"\n",
        "      }\n",
        "    },\n",
        "    {\n",
        "      \"set\": {\n",
        "        \"description\": \"Set error message\",\n",
        "        \"field\": \"ingest.failure\",\n",
        "        \"value\": \"{{_ingest.on_failure_message}}\"\n",
        "      }\n",
        "    }\n",
        "  ]\n",
        ")"
      ],
      "metadata": {
        "id": "sO3ZPDrZCPcn",
        "colab": {
          "base_uri": "https://localhost:8080/"
        },
        "outputId": "22da65f9-7953-43fc-b2ab-f74570224a69"
      },
      "execution_count": 9,
      "outputs": [
        {
          "output_type": "execute_result",
          "data": {
            "text/plain": [
              "ObjectApiResponse({'acknowledged': True})"
            ]
          },
          "metadata": {},
          "execution_count": 9
        }
      ]
    },
    {
      "cell_type": "code",
      "source": [
        "es.options(ignore_status=400).indices.create(\n",
        "    index=\"headset_qa_1000_embeddings\",\n",
        "    settings={\"number_of_shards\": 1},\n",
        "    mappings={\n",
        "        \"properties\": {\n",
        "            \"question\": { \"type\": \"text\"},\n",
        "            \"answer\": {\"type\": \"text\"},\n",
        "            \"question_vector.predicted_value\": {\n",
        "            \"type\": \"dense_vector\",\n",
        "            \"dims\": 384,\n",
        "            \"index\": \"true\",\n",
        "            \"similarity\": \"cosine\"\n",
        "            }\n",
        "        }\n",
        "    }\n",
        ")"
      ],
      "metadata": {
        "id": "80j3zYvcFcwx"
      },
      "execution_count": null,
      "outputs": []
    },
    {
      "cell_type": "code",
      "source": [
        "# Load data through the model using a pipeline\n",
        "def generator():\n",
        "    for index, row in df.iterrows():\n",
        "        yield {\n",
        "            \"_index\": \"headset_qa_1000_embeddings\",\n",
        "            \"pipeline\": \"sentence-text-embedding\",\n",
        "            \"question_text\": row[\"question\"],\n",
        "            \"answer\": row[\"answer\"]\n",
        "        }\n",
        "\n",
        "try:\n",
        "    res = bulk(es, generator())\n",
        "    print(\"Response: \", res)\n",
        "except Exception as e:\n",
        "    print(e)\n"
      ],
      "metadata": {
        "id": "GhyIGRDzG_nW"
      },
      "execution_count": null,
      "outputs": []
    },
    {
      "cell_type": "markdown",
      "source": [
        "# Queries"
      ],
      "metadata": {
        "id": "cRqzd4IOZ3I5"
      }
    },
    {
      "cell_type": "code",
      "source": [
        "# Simple KNN\n",
        "query = input (\"Enter a question : \")\n",
        "# does this work with cisco ip phone 7942\n",
        "print('\\n')\n",
        "\n",
        "knn = {\n",
        "    \"field\": \"question_vector.predicted_value\",\n",
        "    \"k\": 10,\n",
        "    \"num_candidates\": 100,\n",
        "    \"query_vector_builder\": {\n",
        "    \"text_embedding\": {\n",
        "        \"model_id\": \"sentence-transformers__all-minilm-l6-v2\",\n",
        "        \"model_text\": query\n",
        "        }\n",
        "    }\n",
        "}\n",
        "\n",
        "resp = es.search(index=\"headset_qa_1000_embeddings\", knn=knn)\n",
        "\n",
        "for hit in resp['hits']['hits']:\n",
        "    doc_id = hit['_id']\n",
        "    score = hit['_score']\n",
        "    question = hit['_source']['question_text']\n",
        "    answer = hit['_source']['answer']\n",
        "    print(f\"Score: {score}\\nQuestion: {question}\\nAnswer: {answer}\\n\")"
      ],
      "metadata": {
        "id": "B3YXTTzzLUPd"
      },
      "execution_count": null,
      "outputs": []
    },
    {
      "cell_type": "code",
      "source": [
        "# KNN with Filter\n",
        "\n",
        "query = input (\"Enter a question : \")\n",
        "print('\\n')\n",
        "\n",
        "knn = {\n",
        "    \"field\": \"question_vector.predicted_value\",\n",
        "    \"k\": 10,\n",
        "    \"num_candidates\": 100,\n",
        "    \"query_vector_builder\": {\n",
        "    \"text_embedding\": {\n",
        "        \"model_id\": \"sentence-transformers__all-minilm-l6-v2\",\n",
        "        \"model_text\": query\n",
        "        }\n",
        "    },\n",
        "    \"filter\": {\n",
        "      \"bool\": {\n",
        "        \"must_not\": [\n",
        "          {\n",
        "            \"match\": {\n",
        "              \"answer\": \"plantronics\"\n",
        "            }\n",
        "          }\n",
        "        ]\n",
        "      }\n",
        "    }\n",
        "}\n",
        "\n",
        "resp = es.search(index=\"headset_qa_1000_embeddings\", knn=knn)\n",
        "\n",
        "for hit in resp['hits']['hits']:\n",
        "    doc_id = hit['_id']\n",
        "    score = hit['_score']\n",
        "    question = hit['_source']['question_text']\n",
        "    answer = hit['_source']['answer']\n",
        "    print(f\"Score: {score}\\nQuestion: {question}\\nAnswer: {answer}\\n\")"
      ],
      "metadata": {
        "id": "Bm7a9_tBQ3gm"
      },
      "execution_count": null,
      "outputs": []
    },
    {
      "cell_type": "code",
      "source": [
        "# Hybrid search rrf\n",
        "query = input (\"Enter a question : \")\n",
        "\n",
        "print('\\n')\n",
        "body = {\n",
        "    \"query\": {\n",
        "      \"bool\": {\n",
        "      \"must\": [\n",
        "        {\n",
        "          \"match\": {\n",
        "            \"answer\": \"polycom\"\n",
        "          }\n",
        "        }\n",
        "      ]\n",
        "    }\n",
        "  },\n",
        "  \"knn\": {\n",
        "    \"field\": \"question_vector.predicted_value\",\n",
        "    \"k\": 10,\n",
        "    \"num_candidates\": 100,\n",
        "    \"query_vector_builder\": {\n",
        "      \"text_embedding\": {\n",
        "        \"model_id\": \"sentence-transformers__all-minilm-l6-v2\",\n",
        "        \"model_text\": query\n",
        "      }\n",
        "    }\n",
        "  },\n",
        "  \"rank\": {\n",
        "        \"rrf\": {\n",
        "            \"window_size\": 50,\n",
        "            \"rank_constant\": 20\n",
        "        }\n",
        "    }\n",
        "}\n",
        "resp = es.search(index=\"headset_qa_1000_embeddings\", body=body)\n",
        "\n",
        "for hit in resp['hits']['hits']:\n",
        "    doc_id = hit['_id']\n",
        "    rank = hit['_rank']\n",
        "    question = hit['_source']['question_text']\n",
        "    answer = hit['_source']['answer']\n",
        "    print(f\"\\nRank: {rank}\\nQuestion: {question}\\nAnswer: {answer}\\n\")"
      ],
      "metadata": {
        "id": "KuwwDu3p8BWS"
      },
      "execution_count": null,
      "outputs": []
    },
    {
      "cell_type": "code",
      "source": [
        "# Clean up\n",
        "\n",
        "es.ml.stop_trained_model_deployment(\n",
        "    model_id=\"sentence-transformers__all-minilm-l6-v2\",\n",
        "     force=True\n",
        ")"
      ],
      "metadata": {
        "id": "eyPPUnVZa2iQ"
      },
      "execution_count": null,
      "outputs": []
    }
  ]
}